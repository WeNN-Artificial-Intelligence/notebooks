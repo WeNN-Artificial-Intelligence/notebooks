{
  "nbformat": 4,
  "nbformat_minor": 0,
  "metadata": {
    "colab": {
      "name": "Upload_Image_Annotation_To_Roboflow_via_API.ipynb",
      "provenance": [],
      "authorship_tag": "ABX9TyPb27vJFJ9+r5ipXkzRJFVk",
      "include_colab_link": true
    },
    "kernelspec": {
      "name": "python3",
      "display_name": "Python 3"
    },
    "language_info": {
      "name": "python"
    }
  },
  "cells": [
    {
      "cell_type": "markdown",
      "metadata": {
        "id": "view-in-github",
        "colab_type": "text"
      },
      "source": [
        "<a href=\"https://colab.research.google.com/github/WeNN-Artificial-Intelligence/notebooks/blob/ilker_study/Upload_Image_Annotation_To_Roboflow_via_API.ipynb\" target=\"_parent\"><img src=\"https://colab.research.google.com/assets/colab-badge.svg\" alt=\"Open In Colab\"/></a>"
      ]
    },
    {
      "cell_type": "code",
      "execution_count": 9,
      "metadata": {
        "colab": {
          "base_uri": "https://localhost:8080/"
        },
        "id": "dArwUdFwoYgH",
        "outputId": "aa87f8a9-f30e-445a-da84-0d03e8a040c5"
      },
      "outputs": [
        {
          "output_type": "stream",
          "name": "stdout",
          "text": [
            "Downloading...\n",
            "From: https://drive.google.com/uc?id=1a2oHjcEcwXP8oUF95qiwrqzACb2YlUhn\n",
            "To: /content/VisDrone2019-DET-train/images/VisDrone2019-DET-train.zip\n",
            "100% 1.55G/1.55G [00:14<00:00, 110MB/s] \n"
          ]
        }
      ],
      "source": [
        "!gdown --id 1a2oHjcEcwXP8oUF95qiwrqzACb2YlUhn"
      ]
    },
    {
      "cell_type": "code",
      "source": [
        "!unzip VisDrone2019-DET-train.zip"
      ],
      "metadata": {
        "id": "LrwePD-QtIgL"
      },
      "execution_count": null,
      "outputs": []
    },
    {
      "cell_type": "code",
      "source": [
        "!pwd\n",
        "%cd VisDrone2019-DET-train/\n",
        "!pwd\n",
        "import os \n",
        "#os.chdir(\"../\")\n",
        "filename = \"deneme\"\n",
        "annotation_filename = os.path.join(\"../annotations/\"+os.path.splitext(filename)[0]+'.xml')\n",
        "print(annotation_filename)\n",
        "!pwd"
      ],
      "metadata": {
        "id": "K6TFK8H7ugMr"
      },
      "execution_count": null,
      "outputs": []
    },
    {
      "cell_type": "code",
      "source": [
        "import requests\n",
        "import base64\n",
        "import io\n",
        "from PIL import Image\n",
        "import os\n",
        "MY_KEY =\"9xdIQjEMSJJIXNfrmwhE\"\n",
        "# os.chdir(\"images/\")\n",
        "for filename in os.listdir(\".\"):\n",
        "\n",
        "    if filename.endswith(\".jpg\") or filename.endswith(\".png\"):\n",
        "      print(filename)\n",
        "\n",
        "      # Load Image with PIL\n",
        "      image = Image.open(filename).convert(\"RGB\")\n",
        "\n",
        "      # Convert to JPEG Buffer\n",
        "      buffered = io.BytesIO()\n",
        "      image.save(buffered, quality=90, format=\"JPEG\")\n",
        "\n",
        "      # Base 64 Encode\n",
        "      img_str = base64.b64encode(buffered.getvalue())\n",
        "      img_str = img_str.decode(\"ascii\")\n",
        "\n",
        "\n",
        "\n",
        "      # Construct the URL\n",
        "      upload_url = \"\".join([\n",
        "          \"https://api.roboflow.com/dataset/uyz-cturp/upload\",\n",
        "          \"?api_key=\" + MY_KEY,\n",
        "          \"&name=\"+str(filename),\n",
        "          \"&split=train\"\n",
        "      ])\n",
        "\n",
        "      # POST to the API\n",
        "      r = requests.post(upload_url, data=img_str, headers={\n",
        "          \"Content-Type\": \"application/x-www-form-urlencoded\"\n",
        "      })\n",
        "\n",
        "      # Output result\n",
        "      print(r.json())\n",
        "\n",
        "\n",
        "      img_id = r.json()['id']\n",
        "      annotation_filename = os.path.splitext(filename)[0]+'.txt'\n",
        "      annotation_path = os.path.splitext(filename)[0]+'.txt'\n",
        "      \n",
        "      print(annotation_filename)\n",
        "\n",
        "      # Read Annotation as String\n",
        "      annotation_str = str(open(annotation_path, \"r\").read())\n",
        "     \n",
        "      # Construct the URL\n",
        "      upload_url = \"\".join([\n",
        "          \"https://api.roboflow.com/dataset/uyz-cturp/annotate/\" + img_id,\n",
        "          \"?api_key=\" + MY_KEY,\n",
        "          \"&name=\", annotation_filename\n",
        "      ])\n",
        "\n",
        "      # POST to the API\n",
        "      r = requests.post(upload_url, data=annotation_str, headers={\n",
        "          \"Content-Type\": \"text/plain\"\n",
        "      })\n",
        "\n",
        "      # Output result\n",
        "      print(r.json())"
      ],
      "metadata": {
        "id": "-CyKRLRztqqJ",
        "colab": {
          "base_uri": "https://localhost:8080/"
        },
        "outputId": "54a4b803-06b4-4117-84d4-308f603d14df"
      },
      "execution_count": 2,
      "outputs": [
        {
          "output_type": "stream",
          "name": "stdout",
          "text": [
            "0000002_00005_d_0000014.jpg\n",
            "{'success': True, 'id': 'cdK34OS2l6yRyMjEpZGG'}\n",
            "0000002_00005_d_0000014.txt\n",
            "{'success': True}\n"
          ]
        }
      ]
    },
    {
      "cell_type": "code",
      "source": [
        "from google.colab import files\n",
        "files.download(\"/content/VisDrone2019-DET-train.zip\")"
      ],
      "metadata": {
        "colab": {
          "base_uri": "https://localhost:8080/",
          "height": 34
        },
        "id": "tQFTihpmAf-P",
        "outputId": "4fa382b9-a8bd-4fef-c20f-e2c758736294"
      },
      "execution_count": null,
      "outputs": [
        {
          "output_type": "display_data",
          "data": {
            "application/javascript": [
              "\n",
              "    async function download(id, filename, size) {\n",
              "      if (!google.colab.kernel.accessAllowed) {\n",
              "        return;\n",
              "      }\n",
              "      const div = document.createElement('div');\n",
              "      const label = document.createElement('label');\n",
              "      label.textContent = `Downloading \"${filename}\": `;\n",
              "      div.appendChild(label);\n",
              "      const progress = document.createElement('progress');\n",
              "      progress.max = size;\n",
              "      div.appendChild(progress);\n",
              "      document.body.appendChild(div);\n",
              "\n",
              "      const buffers = [];\n",
              "      let downloaded = 0;\n",
              "\n",
              "      const channel = await google.colab.kernel.comms.open(id);\n",
              "      // Send a message to notify the kernel that we're ready.\n",
              "      channel.send({})\n",
              "\n",
              "      for await (const message of channel.messages) {\n",
              "        // Send a message to notify the kernel that we're ready.\n",
              "        channel.send({})\n",
              "        if (message.buffers) {\n",
              "          for (const buffer of message.buffers) {\n",
              "            buffers.push(buffer);\n",
              "            downloaded += buffer.byteLength;\n",
              "            progress.value = downloaded;\n",
              "          }\n",
              "        }\n",
              "      }\n",
              "      const blob = new Blob(buffers, {type: 'application/binary'});\n",
              "      const a = document.createElement('a');\n",
              "      a.href = window.URL.createObjectURL(blob);\n",
              "      a.download = filename;\n",
              "      div.appendChild(a);\n",
              "      a.click();\n",
              "      div.remove();\n",
              "    }\n",
              "  "
            ],
            "text/plain": [
              "<IPython.core.display.Javascript object>"
            ]
          },
          "metadata": {}
        },
        {
          "output_type": "display_data",
          "data": {
            "application/javascript": [
              "download(\"download_7e51fe75-cd1d-4d98-ba66-46ab8466ddcb\", \"VisDrone2019-DET-train.zip\", 1549875511)"
            ],
            "text/plain": [
              "<IPython.core.display.Javascript object>"
            ]
          },
          "metadata": {}
        }
      ]
    },
    {
      "cell_type": "code",
      "source": [
        "!pip install roboflow\n",
        "\n",
        "from roboflow import Roboflow\n",
        "rf = Roboflow(api_key=\"9xdIQjEMSJJIXNfrmwhE\")\n",
        "project = rf.workspace().project(\"uyz-cturp\")\n",
        "dataset = project.version(2).download(\"yolov5\")"
      ],
      "metadata": {
        "id": "Hybc5L_WHHie"
      },
      "execution_count": null,
      "outputs": []
    }
  ]
}