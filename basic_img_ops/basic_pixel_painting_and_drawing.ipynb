{
 "cells": [
  {
   "cell_type": "markdown",
   "metadata": {},
   "source": [
    "# Basic CV applications using opencv2"
   ]
  },
  {
   "cell_type": "code",
   "execution_count": 22,
   "metadata": {},
   "outputs": [
    {
     "data": {
      "text/plain": [
       "-1"
      ]
     },
     "execution_count": 22,
     "metadata": {},
     "output_type": "execute_result"
    }
   ],
   "source": [
    "import cv2\n",
    "import numpy as np\n",
    "\n",
    "canvas = np.zeros((512,512,3), dtype=np.uint8)\n",
    "canvas[:,:,0] = 0 #b\n",
    "canvas[:,:,1] = 150 #g\n",
    "canvas[:,:,2] = 0 #r\n",
    "cv2.imshow(\"canvas\", canvas)\n",
    "#print(canvas)\n",
    "cv2.waitKey(0)\n"
   ]
  },
  {
   "cell_type": "markdown",
   "metadata": {},
   "source": [
    "## Pixel painting: rows of 10x10"
   ]
  },
  {
   "cell_type": "code",
   "execution_count": 33,
   "metadata": {},
   "outputs": [],
   "source": [
    "img = np.zeros((10,10,3), np.uint8)\n",
    "img[0,:] = (255,255,255) \n",
    "img[1,:] = (255,255,220)\n",
    "img[2,:] = (255,255,190)\n",
    "img[3,:] = (255,255,160)\n",
    "img[4,:] = (255,255,130)\n",
    "img[5,:] = (255,255,100)\n",
    "img[6,:] = (255,255,70)\n",
    "img[7,:] = (255,255,40)\n",
    "img = cv2.resize(img, (1000,1000),interpolation=cv2.INTER_AREA)\n",
    "cv2.imshow(\"canvas\", img)\n",
    "\n",
    "#print(canvas)\n",
    "cv2.waitKey(0)\n",
    "cv2.destroyAllWindows()"
   ]
  },
  {
   "cell_type": "markdown",
   "metadata": {},
   "source": [
    "# Pixel painting: columns of 10x10"
   ]
  },
  {
   "cell_type": "code",
   "execution_count": 34,
   "metadata": {},
   "outputs": [],
   "source": [
    "img = np.zeros((10,10,3), np.uint8)\n",
    "img[:,0] = (255,255,255) \n",
    "img[:,1] = (255,255,220)\n",
    "img[:,2] = (255,255,190)\n",
    "img[:,3] = (255,255,160)\n",
    "img[:,4] = (255,255,130)\n",
    "img[:,5] = (255,255,100)\n",
    "img[:,6] = (255,255,70)\n",
    "img[:,7] = (255,255,40)\n",
    "img = cv2.resize(img, (1000,1000),interpolation=cv2.INTER_AREA)\n",
    "cv2.imshow(\"canvas\", img)\n",
    "\n",
    "#print(canvas)\n",
    "cv2.waitKey(0)\n",
    "cv2.destroyAllWindows()"
   ]
  },
  {
   "cell_type": "markdown",
   "metadata": {},
   "source": [
    "# Drawing functions"
   ]
  },
  {
   "cell_type": "code",
   "execution_count": 16,
   "metadata": {},
   "outputs": [],
   "source": [
    "canvas = np.zeros((512,512,3), dtype=np.uint8) +255\n",
    "\n",
    "cv2.line(canvas, (100,150),(200,250), (255,0,0), thickness=5) #canvas, start, end, color, flags\n",
    "cv2.line(canvas, (0,150),(200,250), (0,0,255), thickness=8)\n",
    "cv2.rectangle(canvas,(0,150),(200,250), (0,255,0), thickness=3) #canvas, top-left, bottom-right, color, flags\n",
    "cv2.circle(canvas,(250,250), 100,(0,0,255), thickness=-1)\n",
    "\n",
    "cv2.ellipse(canvas,(300,300),(100,50),0,90,360,(255,255,0),-1) #canvas, center, length, angle, start angle, end angle, color, flags\n",
    "\n",
    "points = np.array([[110,100], [333,200],[290,250],[220,250]], np.int32)\n",
    "cv2.polylines(canvas, [points], True, (0,0,100),5)\n",
    "\n",
    "cv2.imshow(\"canvas\", canvas)\n",
    "cv2.waitKey(0)\n",
    "cv2.destroyAllWindows()"
   ]
  },
  {
   "cell_type": "markdown",
   "metadata": {},
   "source": [
    "# Writing texts"
   ]
  },
  {
   "cell_type": "code",
   "execution_count": 26,
   "metadata": {},
   "outputs": [],
   "source": [
    "font1 = cv2.FONT_HERSHEY_SIMPLEX\n",
    "font2 = cv2.FONT_HERSHEY_COMPLEX\n",
    "font3 = cv2.FONT_HERSHEY_SCRIPT_COMPLEX\n",
    "canvas = np.zeros((512,512,3), dtype=np.uint8)\n",
    "cv2.putText(canvas,\"Ilker Atik\",(20,100),font3,4,(0,0,255))\n",
    "cv2.imshow(\"canvas\", canvas)\n",
    "cv2.waitKey(0)\n",
    "cv2.destroyAllWindows()"
   ]
  }
 ],
 "metadata": {
  "kernelspec": {
   "display_name": "Python 3 (ipykernel)",
   "language": "python",
   "name": "python3"
  },
  "language_info": {
   "codemirror_mode": {
    "name": "ipython",
    "version": 3
   },
   "file_extension": ".py",
   "mimetype": "text/x-python",
   "name": "python",
   "nbconvert_exporter": "python",
   "pygments_lexer": "ipython3",
   "version": "3.8.12"
  }
 },
 "nbformat": 4,
 "nbformat_minor": 4
}
