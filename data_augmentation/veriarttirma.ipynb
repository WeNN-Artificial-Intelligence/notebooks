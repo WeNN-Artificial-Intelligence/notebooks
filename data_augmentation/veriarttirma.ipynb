{
  "nbformat": 4,
  "nbformat_minor": 0,
  "metadata": {
    "colab": {
      "name": "veriarttirma.ipynb",
      "provenance": [],
      "authorship_tag": "ABX9TyMprFnRnnxpqMRqKP3ycBqu",
      "include_colab_link": true
    },
    "kernelspec": {
      "name": "python3",
      "display_name": "Python 3"
    },
    "language_info": {
      "name": "python"
    },
    "accelerator": "GPU"
  },
  "cells": [
    {
      "cell_type": "markdown",
      "metadata": {
        "id": "view-in-github",
        "colab_type": "text"
      },
      "source": [
        "<a href=\"https://colab.research.google.com/github/WeNN-Artificial-Intelligence/notebooks/blob/beyza_study/veriarttirma.ipynb\" target=\"_parent\"><img src=\"https://colab.research.google.com/assets/colab-badge.svg\" alt=\"Open In Colab\"/></a>"
      ]
    },
    {
      "cell_type": "code",
      "execution_count": 1,
      "metadata": {
        "colab": {
          "base_uri": "https://localhost:8080/"
        },
        "id": "IlS09JyhwrVK",
        "outputId": "8a81f631-9c90-4b3c-9edf-668343ae6167"
      },
      "outputs": [
        {
          "output_type": "stream",
          "name": "stdout",
          "text": [
            "Mounted at /gdrive/\n"
          ]
        }
      ],
      "source": [
        "from google.colab import drive\n",
        "drive.mount('/gdrive/')"
      ]
    },
    {
      "cell_type": "markdown",
      "source": [
        "Drive ile bağlantı kurduk."
      ],
      "metadata": {
        "id": "MYlLASWZw_g9"
      }
    },
    {
      "cell_type": "code",
      "source": [
        "!mkdir -p drive\n",
        "!google-drive-ocamlfuse drive"
      ],
      "metadata": {
        "colab": {
          "base_uri": "https://localhost:8080/"
        },
        "id": "1A3oG6MTw-uB",
        "outputId": "44beaa4b-0231-4000-a77a-875307ac7ca6"
      },
      "execution_count": 8,
      "outputs": [
        {
          "output_type": "stream",
          "name": "stdout",
          "text": [
            "/bin/bash: google-drive-ocamlfuse: command not found\n"
          ]
        }
      ]
    },
    {
      "cell_type": "code",
      "source": [
        "!ls drive"
      ],
      "metadata": {
        "id": "H81iPN9ZyfLj"
      },
      "execution_count": 11,
      "outputs": []
    },
    {
      "cell_type": "code",
      "source": [
        "import os\n",
        "os.chdir(\"/gdrive/My Drive/data_augmentation/\")"
      ],
      "metadata": {
        "id": "3152GVsEynAU"
      },
      "execution_count": 13,
      "outputs": []
    },
    {
      "cell_type": "code",
      "source": [
        "!ls "
      ],
      "metadata": {
        "colab": {
          "base_uri": "https://localhost:8080/"
        },
        "id": "I5MhWOuS3SF3",
        "outputId": "e3396fee-d404-4184-e537-dbd201e938c1"
      },
      "execution_count": 15,
      "outputs": [
        {
          "output_type": "stream",
          "name": "stdout",
          "text": [
            "deneme.jpg  veriarttirma.ipynb\n"
          ]
        }
      ]
    },
    {
      "cell_type": "code",
      "source": [
        "from keras.preprocessing.image import ImageDataGenerator, array_to_img, img_to_array, load_img"
      ],
      "metadata": {
        "id": "H8DkhQLQ3eb8"
      },
      "execution_count": 16,
      "outputs": []
    },
    {
      "cell_type": "markdown",
      "source": [
        "Şimdi ise kullanılacak veri artırma tekniklerini tanımlayalım"
      ],
      "metadata": {
        "id": "EFgY3opq3ker"
      }
    },
    {
      "cell_type": "code",
      "source": [
        "datagen = ImageDataGenerator(rotation_range=40,\n",
        "                             width_shift_range=0.2,\n",
        "                             height_shift_range=0.2,\n",
        "                             shear_range=0.2,\n",
        "                             zoom_range=0.2,\n",
        "                             horizontal_flip=True,\n",
        "                             vertical_flip=True,\n",
        "                             fill_mode='nearest')"
      ],
      "metadata": {
        "id": "_-ekbsuh3gnW"
      },
      "execution_count": 17,
      "outputs": []
    },
    {
      "cell_type": "markdown",
      "source": [
        "Artırma işlemi yapılacak olan görüntünün dosyadan okunması işlemini yapalım"
      ],
      "metadata": {
        "id": "f8QAJgfn32HS"
      }
    },
    {
      "cell_type": "code",
      "source": [
        "img = load_img('deneme.jpg')\n",
        "x = img_to_array(img)\n",
        "x = x.reshape((1,) + x.shape)"
      ],
      "metadata": {
        "id": "OZL0kdJ535ju"
      },
      "execution_count": 18,
      "outputs": []
    },
    {
      "cell_type": "markdown",
      "source": [
        "Giriş görüntüsünden kaç tane üretilmesini istediğimizi belirleyelim ve konumunu ayarlayalım"
      ],
      "metadata": {
        "id": "s32LuYpQ4SDS"
      }
    },
    {
      "cell_type": "code",
      "source": [
        "i = 0\n",
        "\n",
        "for batch in datagen.flow(x, batch_size=1,\n",
        "                          save_to_dir='/gdrive/My Drive/data_augmentation/Yeni Veriler', \n",
        "                          save_format='jpg'):\n",
        "    i += 1\n",
        "    if i > 50:\n",
        "        break "
      ],
      "metadata": {
        "id": "5yPLS6124YBl"
      },
      "execution_count": 20,
      "outputs": []
    }
  ]
}