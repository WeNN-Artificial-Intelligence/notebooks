{
 "cells": [
  {
   "cell_type": "markdown",
   "metadata": {},
   "source": [
    "# Painting with RGB Trackbar application using opencv2"
   ]
  },
  {
   "cell_type": "code",
   "execution_count": 2,
   "metadata": {},
   "outputs": [],
   "source": [
    "import cv2\n",
    "import numpy as np\n",
    "\n",
    "\n",
    "def nothing(x):\n",
    "    pass\n",
    "\n",
    "\n",
    "img = np.zeros((512, 512, 3),np.uint8)\n",
    "cv2.namedWindow(\"image\")\n",
    "\n",
    "cv2.createTrackbar(\"R\", \"image\", 0, 255, nothing)\n",
    "cv2.createTrackbar(\"G\", \"image\", 0, 255, nothing)\n",
    "cv2.createTrackbar(\"B\", \"image\", 0, 255, nothing)\n",
    "switch = \"0: OFF, 1: ON\"\n",
    "cv2.createTrackbar(switch, \"image\", 0, 1, nothing)\n",
    "\n",
    "while True:\n",
    "    cv2.imshow(\"image\",img)\n",
    "    if cv2.waitKey(1) &  0xFF == ord(\"q\"):\n",
    "        break\n",
    "    \n",
    "    r = cv2.getTrackbarPos(\"R\", \"image\")\n",
    "    g = cv2.getTrackbarPos(\"G\", \"image\")\n",
    "    b = cv2.getTrackbarPos(\"B\", \"image\")\n",
    "    s = cv2.getTrackbarPos(switch, \"image\")\n",
    "    \n",
    "    if s ==0:\n",
    "        img[:] = [0,0,0]\n",
    "    elif s == 1:\n",
    "        img[:] = [b,g,r]\n",
    "    \n",
    "    \n",
    "cv2.destroyAllWindows()\n"
   ]
  }
 ],
 "metadata": {
  "kernelspec": {
   "display_name": "Python 3 (ipykernel)",
   "language": "python",
   "name": "python3"
  },
  "language_info": {
   "codemirror_mode": {
    "name": "ipython",
    "version": 3
   },
   "file_extension": ".py",
   "mimetype": "text/x-python",
   "name": "python",
   "nbconvert_exporter": "python",
   "pygments_lexer": "ipython3",
   "version": "3.8.12"
  }
 },
 "nbformat": 4,
 "nbformat_minor": 4
}
